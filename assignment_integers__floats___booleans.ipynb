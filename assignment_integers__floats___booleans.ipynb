{
  "nbformat": 4,
  "nbformat_minor": 0,
  "metadata": {
    "colab": {
      "provenance": [],
      "include_colab_link": true
    },
    "kernelspec": {
      "name": "python3",
      "display_name": "Python 3"
    },
    "language_info": {
      "name": "python"
    }
  },
  "cells": [
    {
      "cell_type": "markdown",
      "metadata": {
        "id": "view-in-github",
        "colab_type": "text"
      },
      "source": [
        "<a href=\"https://colab.research.google.com/github/hemantturkar/PYTHON-PROGRAM/blob/main/assignment_integers__floats___booleans.ipynb\" target=\"_parent\"><img src=\"https://colab.research.google.com/assets/colab-badge.svg\" alt=\"Open In Colab\"/></a>"
      ]
    },
    {
      "cell_type": "markdown",
      "source": [
        "## <u>While doing this assignment only use those concepts which have been taught till now</u>"
      ],
      "metadata": {
        "id": "wOJGviOQAfOE"
      }
    },
    {
      "cell_type": "markdown",
      "source": [
        "## <u>Problem 1</u>\n",
        "\n",
        "In a cricket tournament, based on the outcome of a particular match a team gets following points:\n",
        "* <code>wins</code> gets <code>3</code> points\n",
        "* <code>draws</code> gets <code>1</code> points\n",
        "* <code>losses</code> gets <code>0</code> points\n",
        "\n",
        "Team Aravali plays <code>8</code> matches in this tournament. It wins <code>4</code> matches, loses <code>3</code> matches and draws <code>1</code>. What is the total number of points gained by the Team Aravali?"
      ],
      "metadata": {
        "id": "bvrZKtd9Ai41"
      }
    },
    {
      "cell_type": "code",
      "source": [
        "wins = 4\n",
        "loses = 3\n",
        "draw = 1\n",
        "\n",
        "output = wins*3 + loses*0 + draw*1\n",
        "print(output)"
      ],
      "metadata": {
        "colab": {
          "base_uri": "https://localhost:8080/"
        },
        "id": "WNNzH9hGxxRT",
        "outputId": "b0cde1db-4a75-4b7b-cb82-37ac407b5e71"
      },
      "execution_count": null,
      "outputs": [
        {
          "output_type": "stream",
          "name": "stdout",
          "text": [
            "13\n"
          ]
        }
      ]
    },
    {
      "cell_type": "code",
      "execution_count": null,
      "metadata": {
        "id": "9cJdP80fAVcQ"
      },
      "outputs": [],
      "source": [
        "#solution"
      ]
    },
    {
      "cell_type": "markdown",
      "source": [
        "## <u>Problem 2 </u>\n",
        "\n",
        "* Root of a function $f(x)$ is defined as the value $x$ where $f(x)=0$\n",
        "* Consider a quadratic function $ f(x) = x^2 + 3x - 4$\n",
        "\n",
        "### Find the value of the function $f(x)$ at points   $x=2,x=-1, x=1$."
      ],
      "metadata": {
        "id": "uiJ6b1o8ApS0"
      }
    },
    {
      "cell_type": "code",
      "source": [
        "# Calculate the value of the function f(x) at x = 2\n",
        "a=2**2\n",
        "b=3*2\n",
        "c=4\n",
        "output= a+b-c\n",
        "print(output)\n"
      ],
      "metadata": {
        "id": "lugE0YviAoi0",
        "colab": {
          "base_uri": "https://localhost:8080/"
        },
        "outputId": "ead03c3c-806c-4b63-d768-51cb1e807a38"
      },
      "execution_count": null,
      "outputs": [
        {
          "output_type": "stream",
          "name": "stdout",
          "text": [
            "6\n"
          ]
        }
      ]
    },
    {
      "cell_type": "code",
      "source": [
        "# Calculate the value of the function f(x) at x = -1\n",
        "a=-1**2\n",
        "b=3*-1\n",
        "c=4\n",
        "output= a+b-c\n",
        "print(output)"
      ],
      "metadata": {
        "id": "wGveX9_wAvpR",
        "colab": {
          "base_uri": "https://localhost:8080/"
        },
        "outputId": "2c0fd099-0b7a-4360-c962-a2e7cf44ce21"
      },
      "execution_count": null,
      "outputs": [
        {
          "output_type": "stream",
          "name": "stdout",
          "text": [
            "-8\n"
          ]
        }
      ]
    },
    {
      "cell_type": "code",
      "source": [
        "# Print the value below\n",
        "print(output)\n"
      ],
      "metadata": {
        "id": "6IGXXZMYAxXW",
        "colab": {
          "base_uri": "https://localhost:8080/"
        },
        "outputId": "4864df48-37e4-47a4-8c63-d7e473b19b7c"
      },
      "execution_count": null,
      "outputs": [
        {
          "output_type": "stream",
          "name": "stdout",
          "text": [
            "0\n"
          ]
        }
      ]
    },
    {
      "cell_type": "code",
      "source": [
        "# Calculate the value of the function f(x) at x = 1\n",
        "a=1**2\n",
        "b=3*1\n",
        "c=4\n",
        "output= a+b-c\n",
        "print(output)"
      ],
      "metadata": {
        "id": "cZww_eIeAzVH",
        "colab": {
          "base_uri": "https://localhost:8080/"
        },
        "outputId": "1345c081-a1d7-41e4-fa73-fec8512efa9c"
      },
      "execution_count": null,
      "outputs": [
        {
          "output_type": "stream",
          "name": "stdout",
          "text": [
            "0\n"
          ]
        }
      ]
    },
    {
      "cell_type": "code",
      "source": [
        "# Check whether 1 is a root of f(x)\n",
        "print(output)"
      ],
      "metadata": {
        "id": "C5_ex6-IA1ia",
        "colab": {
          "base_uri": "https://localhost:8080/"
        },
        "outputId": "48c78669-f297-444d-d21a-da2a470411c7"
      },
      "execution_count": null,
      "outputs": [
        {
          "output_type": "stream",
          "name": "stdout",
          "text": [
            "0\n"
          ]
        }
      ]
    },
    {
      "cell_type": "markdown",
      "source": [
        "## <u> Problem 3 </u>\n",
        "\n",
        "A bag contains <code>45</code> apples, <code>65</code> oranges and <code>30</code> bananas. Find the percentage of each type of food items in the bag."
      ],
      "metadata": {
        "id": "GW3l3UpyA5ae"
      }
    },
    {
      "cell_type": "code",
      "source": [
        "# Calculate the percentage of apples and print the variable\n",
        "apple = 45\n",
        "orange=65\n",
        "banana=30"
      ],
      "metadata": {
        "id": "VTU1oCWSA3OQ"
      },
      "execution_count": null,
      "outputs": []
    },
    {
      "cell_type": "code",
      "source": [
        "# Calculate the percentage of oranges and print the variable\n",
        "add= apple+orange+banana\n",
        "apple_perc=apple/add*100\n",
        "orange_perc=orange/add*100\n",
        "banana_perc=banana/add*100\n",
        "print(orange_perc)\n",
        "print(banana_perc)\n",
        "print(apple_perc)"
      ],
      "metadata": {
        "id": "UL9zS4OwA8T5",
        "colab": {
          "base_uri": "https://localhost:8080/"
        },
        "outputId": "35dde18b-dffb-4061-d631-7de7d6b7f22b"
      },
      "execution_count": null,
      "outputs": [
        {
          "output_type": "stream",
          "name": "stdout",
          "text": [
            "46.42857142857143\n",
            "21.428571428571427\n",
            "32.142857142857146\n"
          ]
        }
      ]
    },
    {
      "cell_type": "markdown",
      "source": [
        "## <u>Problem 4</u>\n",
        "\n",
        "You were playing a fun guessing game during your school break. There were a total of 100 participants excluding you. Out of these 100 people, 30 were Maths Majors, 45 were Economics Majors and 25 were Physics Majors.\n",
        "\n",
        "The game was divided into three rounds.\n",
        "\n",
        "* In the first round, you had to guess the number of Maths Majors and you <b>correctly</b> guessed 20 of them.\n",
        "* In the second round, you had to guess the number of Economics Majors and you <b>correctly</b> guessed 30 of them.\n",
        "* In the final third round, you had to guess the number of Physics Majors and you <b>correctly</b> guessed 20 of them.\n",
        "\n",
        "### Accuracy is defined as the number of correct guesses upon total number of people in the group (expressed in percentage)"
      ],
      "metadata": {
        "id": "P7jGMNNEBG5a"
      }
    },
    {
      "cell_type": "code",
      "source": [
        "#  Store the number of Maths majors\n",
        "\n",
        "# Store the number of Economics majors\n",
        "\n",
        "# Store the number of Physics majors\n",
        "\n",
        "# Store the number of your correct guesses of Maths majors\n",
        "\n",
        "# Store the number of your correct guesses of Economics majors\n",
        "\n",
        "# Store the number of your correct guesses of Physics majors\n"
      ],
      "metadata": {
        "id": "OJK0TG8MA-5x"
      },
      "execution_count": null,
      "outputs": []
    },
    {
      "cell_type": "markdown",
      "source": [
        "* ### Calculate your accuracy in each of the three rounds"
      ],
      "metadata": {
        "id": "x_PHNoa6BR_w"
      }
    },
    {
      "cell_type": "code",
      "source": [
        "# Print the Maths accuracy\n"
      ],
      "metadata": {
        "id": "cboeuxd9BEog"
      },
      "execution_count": null,
      "outputs": []
    },
    {
      "cell_type": "code",
      "source": [
        "# Print the Economics accuracy\n"
      ],
      "metadata": {
        "id": "fA4Od6IJBUTd"
      },
      "execution_count": null,
      "outputs": []
    },
    {
      "cell_type": "code",
      "source": [
        "# Print the Physics accuracy\n"
      ],
      "metadata": {
        "id": "6QK-StNhBV-6"
      },
      "execution_count": null,
      "outputs": []
    },
    {
      "cell_type": "code",
      "source": [
        "### Calculate your overall accuracy in the entire game"
      ],
      "metadata": {
        "id": "ULxD3kW_BXx0"
      },
      "execution_count": null,
      "outputs": []
    },
    {
      "cell_type": "markdown",
      "source": [
        "* ### Calculate your overall accuracy in the entire game"
      ],
      "metadata": {
        "id": "bIgJYTMoBf85"
      }
    },
    {
      "cell_type": "code",
      "source": [
        "# Print the overall accuracy\n"
      ],
      "metadata": {
        "id": "i2UI4VisBZ3R"
      },
      "execution_count": null,
      "outputs": []
    },
    {
      "cell_type": "code",
      "source": [],
      "metadata": {
        "id": "-QOYq_N2Bk6W"
      },
      "execution_count": null,
      "outputs": []
    }
  ]
}