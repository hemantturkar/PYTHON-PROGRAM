{
  "nbformat": 4,
  "nbformat_minor": 0,
  "metadata": {
    "colab": {
      "provenance": [],
      "authorship_tag": "ABX9TyN+63wadpfIvidXrXiURXX2",
      "include_colab_link": true
    },
    "kernelspec": {
      "name": "python3",
      "display_name": "Python 3"
    },
    "language_info": {
      "name": "python"
    }
  },
  "cells": [
    {
      "cell_type": "markdown",
      "metadata": {
        "id": "view-in-github",
        "colab_type": "text"
      },
      "source": [
        "<a href=\"https://colab.research.google.com/github/hemantturkar/PYTHON-PROGRAM/blob/main/Practice1.ipynb\" target=\"_parent\"><img src=\"https://colab.research.google.com/assets/colab-badge.svg\" alt=\"Open In Colab\"/></a>"
      ]
    },
    {
      "cell_type": "markdown",
      "source": [
        "# comparison operand\n",
        "a is 3 and b is 4\n",
        "a==b no true\n",
        "a!=b is true\n",
        "a>b is not true\n",
        "a<b is true\n",
        "a>=b is not true\n",
        "a<=b is true\n",
        "\n",
        "\n",
        "\n"
      ],
      "metadata": {
        "id": "xb3uc5jl2H4_"
      }
    },
    {
      "cell_type": "code",
      "execution_count": 2,
      "metadata": {
        "id": "x9lKMjsqOe2E",
        "colab": {
          "base_uri": "https://localhost:8080/"
        },
        "outputId": "e636fff6-f1ae-4fba-c9ba-b42b8231f957"
      },
      "outputs": [
        {
          "output_type": "execute_result",
          "data": {
            "text/plain": [
              "False"
            ]
          },
          "metadata": {},
          "execution_count": 2
        }
      ],
      "source": [
        "1 == 2"
      ]
    },
    {
      "cell_type": "code",
      "source": [
        "1==1"
      ],
      "metadata": {
        "colab": {
          "base_uri": "https://localhost:8080/"
        },
        "id": "bTCSutDr2OzJ",
        "outputId": "76aeaf75-da37-4d67-f385-415cf3d9ccbe"
      },
      "execution_count": 4,
      "outputs": [
        {
          "output_type": "execute_result",
          "data": {
            "text/plain": [
              "True"
            ]
          },
          "metadata": {},
          "execution_count": 4
        }
      ]
    },
    {
      "cell_type": "code",
      "source": [
        "a=1\n",
        "type(a)"
      ],
      "metadata": {
        "colab": {
          "base_uri": "https://localhost:8080/"
        },
        "id": "APwEvpae2ZU7",
        "outputId": "694a3c91-fb28-4e86-840e-8963fca1a2ed"
      },
      "execution_count": 5,
      "outputs": [
        {
          "output_type": "execute_result",
          "data": {
            "text/plain": [
              "int"
            ]
          },
          "metadata": {},
          "execution_count": 5
        }
      ]
    },
    {
      "cell_type": "code",
      "source": [
        "b = true\n"
      ],
      "metadata": {
        "id": "knEAGRWU2giY"
      },
      "execution_count": null,
      "outputs": []
    },
    {
      "cell_type": "code",
      "source": [
        "1 != 1"
      ],
      "metadata": {
        "colab": {
          "base_uri": "https://localhost:8080/"
        },
        "id": "aEhLeCWN2_-y",
        "outputId": "98afa688-9aeb-4456-c0d9-29bc51619dcb"
      },
      "execution_count": 9,
      "outputs": [
        {
          "output_type": "execute_result",
          "data": {
            "text/plain": [
              "False"
            ]
          },
          "metadata": {},
          "execution_count": 9
        }
      ]
    },
    {
      "cell_type": "markdown",
      "source": [
        "**Check memory address print(hex(id(x)))**\n",
        "value is same but saves in diffrent memory"
      ],
      "metadata": {
        "id": "9taOKQYW6aD3"
      }
    },
    {
      "cell_type": "code",
      "source": [
        "x=1\n",
        "y=2"
      ],
      "metadata": {
        "id": "lgKXyoed4T2y"
      },
      "execution_count": 15,
      "outputs": []
    },
    {
      "cell_type": "code",
      "source": [
        "print(hex(id(x)))\n",
        "print(hex(id(y)))"
      ],
      "metadata": {
        "colab": {
          "base_uri": "https://localhost:8080/"
        },
        "id": "E-z24ocw5--u",
        "outputId": "3366ebef-dca8-4d3b-c5f7-6370f444d380"
      },
      "execution_count": 16,
      "outputs": [
        {
          "output_type": "stream",
          "name": "stdout",
          "text": [
            "0xa40b88\n",
            "0xa40ba8\n"
          ]
        }
      ]
    },
    {
      "cell_type": "markdown",
      "source": [
        "**Data types**\n"
      ],
      "metadata": {
        "id": "Z6LelRrk8JcJ"
      }
    },
    {
      "cell_type": "code",
      "source": [
        "print(type(10))\n",
        "print(type('HEmant'))\n",
        "print(type(10.5))\n",
        "print(type(True))\n",
        "print(type([1,2,3]))\n",
        "print(type((1,2,3)))\n",
        "print(type({1,2,3}))\n",
        "\n",
        "print(type(10+2j))"
      ],
      "metadata": {
        "colab": {
          "base_uri": "https://localhost:8080/"
        },
        "id": "1GuTMM_z8SOP",
        "outputId": "226b06ca-39a9-44af-c8de-391ddd50dc79"
      },
      "execution_count": 25,
      "outputs": [
        {
          "output_type": "stream",
          "name": "stdout",
          "text": [
            "<class 'int'>\n",
            "<class 'str'>\n",
            "<class 'float'>\n",
            "<class 'bool'>\n",
            "<class 'list'>\n",
            "<class 'tuple'>\n",
            "<class 'set'>\n",
            "<class 'complex'>\n"
          ]
        }
      ]
    }
  ]
}