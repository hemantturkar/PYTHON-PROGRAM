{
  "nbformat": 4,
  "nbformat_minor": 0,
  "metadata": {
    "colab": {
      "provenance": [],
      "authorship_tag": "ABX9TyOpIMeqh8G+ozkclDAjicvp",
      "include_colab_link": true
    },
    "kernelspec": {
      "name": "python3",
      "display_name": "Python 3"
    },
    "language_info": {
      "name": "python"
    }
  },
  "cells": [
    {
      "cell_type": "markdown",
      "metadata": {
        "id": "view-in-github",
        "colab_type": "text"
      },
      "source": [
        "<a href=\"https://colab.research.google.com/github/hemantturkar/PYTHON-PROGRAM/blob/main/stringsyntax.ipynb\" target=\"_parent\"><img src=\"https://colab.research.google.com/assets/colab-badge.svg\" alt=\"Open In Colab\"/></a>"
      ]
    },
    {
      "cell_type": "markdown",
      "source": [
        "**str.format**"
      ],
      "metadata": {
        "id": "B3ChtOx-hhKp"
      }
    },
    {
      "cell_type": "code",
      "execution_count": 2,
      "metadata": {
        "id": "17YQcJE5QzkZ"
      },
      "outputs": [],
      "source": [
        "name='hemant'\n",
        "last_name='turkar'"
      ]
    },
    {
      "cell_type": "code",
      "source": [
        "mesg ='my first name is {} and last name is {}'.format(last_name,last_name)\n",
        "print (mesg)"
      ],
      "metadata": {
        "colab": {
          "base_uri": "https://localhost:8080/"
        },
        "id": "kS7nop1mTgQT",
        "outputId": "31c91934-a817-4e37-f2a8-6df6bf3580ff"
      },
      "execution_count": 7,
      "outputs": [
        {
          "output_type": "stream",
          "name": "stdout",
          "text": [
            "my first name is turkar and last name is turkar\n"
          ]
        }
      ]
    },
    {
      "cell_type": "code",
      "source": [
        "#use index\n",
        "\n",
        "mesg ='my first name is {1} and last name is {0}'.format(name,last_name)\n",
        "print (mesg)"
      ],
      "metadata": {
        "colab": {
          "base_uri": "https://localhost:8080/"
        },
        "id": "RAIx03HMUlgM",
        "outputId": "a38b9421-bd60-43bf-d00a-23b9ac29ca54"
      },
      "execution_count": 9,
      "outputs": [
        {
          "output_type": "stream",
          "name": "stdout",
          "text": [
            "my first name is turkar and last name is hemant\n"
          ]
        }
      ]
    },
    {
      "cell_type": "code",
      "source": [
        "#use index/positional\n",
        "\n",
        "mesg ='my first name is {0} and last name is {1}'.format(name,last_name)\n",
        "print (mesg)"
      ],
      "metadata": {
        "colab": {
          "base_uri": "https://localhost:8080/"
        },
        "id": "IEC4Tho6VE6w",
        "outputId": "abeb1bfe-eb60-4262-d3e4-8f13316834bf"
      },
      "execution_count": 10,
      "outputs": [
        {
          "output_type": "stream",
          "name": "stdout",
          "text": [
            "my first name is hemant and last name is turkar\n"
          ]
        }
      ]
    },
    {
      "cell_type": "code",
      "source": [
        "#without variables\n",
        "\n",
        "\n",
        "mesg ='my first name is {0} and last name is {1}'.format('hemant','turkar')\n",
        "print (mesg)"
      ],
      "metadata": {
        "colab": {
          "base_uri": "https://localhost:8080/"
        },
        "id": "lvLCaFHoVMsH",
        "outputId": "64c8aa4a-7cb5-469f-92a6-de34c142ba0e"
      },
      "execution_count": 12,
      "outputs": [
        {
          "output_type": "stream",
          "name": "stdout",
          "text": [
            "my first name is hemant and last name is turkar\n"
          ]
        }
      ]
    },
    {
      "cell_type": "markdown",
      "source": [
        "**f-string**"
      ],
      "metadata": {
        "id": "3wNWtio0WF6m"
      }
    },
    {
      "cell_type": "code",
      "source": [
        "name='hemant'\n",
        "desig='Ai/ml Engineer'\n",
        "\n",
        "F\"My name is {name} and I'm {desig}\""
      ],
      "metadata": {
        "colab": {
          "base_uri": "https://localhost:8080/",
          "height": 35
        },
        "id": "bvnMhJCvVmxp",
        "outputId": "176ee958-786d-4510-e7fc-8fbdfd780fe4"
      },
      "execution_count": 15,
      "outputs": [
        {
          "output_type": "execute_result",
          "data": {
            "text/plain": [
              "\"My name is hemant and I'm Ai/ml Engineer\""
            ],
            "application/vnd.google.colaboratory.intrinsic+json": {
              "type": "string"
            }
          },
          "metadata": {},
          "execution_count": 15
        }
      ]
    },
    {
      "cell_type": "code",
      "source": [
        "name = \"hemant\"\n",
        "desig = \"Ai/Ml Engineer\"\n",
        "\n",
        "print(f\"My name is {name} and i'm a {desig}.\")"
      ],
      "metadata": {
        "colab": {
          "base_uri": "https://localhost:8080/"
        },
        "id": "kPeUhfRvXBHU",
        "outputId": "30580494-f09f-41bd-933c-960e8048c2b0"
      },
      "execution_count": 18,
      "outputs": [
        {
          "output_type": "stream",
          "name": "stdout",
          "text": [
            "My name is hemant and i'm a Ai/Ml Engineer.\n"
          ]
        }
      ]
    },
    {
      "cell_type": "code",
      "source": [
        "#practice example\n",
        "name = \"hemant\"\n",
        "desig = \"Ai/Ml Engineer\"\n",
        "course = 'Artificial intel'\n",
        "# welcome message and name and intrest\n",
        "\n",
        "print (\"My Name is \",name,\"I enrolled in \",course,\" course and want to become \",desig)"
      ],
      "metadata": {
        "colab": {
          "base_uri": "https://localhost:8080/"
        },
        "id": "nut75erRhWC5",
        "outputId": "7a4875b5-dd53-4a68-e22d-2ee8a4292765"
      },
      "execution_count": 21,
      "outputs": [
        {
          "output_type": "stream",
          "name": "stdout",
          "text": [
            "My Name is  hemant I enrolled in  Artificial intel  course and want to become  Ai/Ml Engineer\n"
          ]
        }
      ]
    }
  ]
}