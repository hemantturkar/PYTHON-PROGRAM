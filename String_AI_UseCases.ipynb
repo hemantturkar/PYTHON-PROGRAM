{
  "cells": [
    {
      "cell_type": "markdown",
      "metadata": {
        "id": "view-in-github",
        "colab_type": "text"
      },
      "source": [
        "<a href=\"https://colab.research.google.com/github/hemantturkar/PYTHON-PROGRAM/blob/main/String_AI_UseCases.ipynb\" target=\"_parent\"><img src=\"https://colab.research.google.com/assets/colab-badge.svg\" alt=\"Open In Colab\"/></a>"
      ]
    },
    {
      "cell_type": "markdown",
      "metadata": {
        "id": "oUubdOevA-O4"
      },
      "source": [
        "# 💼 String Logic Challenges – AI Industry Use Cases\n",
        "These are real-world inspired string manipulation problems designed to help you think like an AI engineer.\n",
        "---"
      ]
    },
    {
      "cell_type": "markdown",
      "metadata": {
        "id": "Xh1uAmrjA-O7"
      },
      "source": [
        "## 🔹 Use Case 1: Email Subject Filter for a Customer Support Bot\n",
        "**Scenario:**\n",
        "You're building an AI support bot. Clean and format incoming messy subject lines.\n",
        "\n",
        "**Input Example:**\n",
        "`\" Re: Refund for order OD1223     \"`\n",
        "\n",
        "**Your Task:**\n",
        "- Strip leading/trailing whitespace\n",
        "- Remove noise words: `Re:`, `QUERY:`, etc.\n",
        "- Normalize casing\n",
        "- Return: `\"Standardized Subject: Refund For Order OD1223\"`"
      ]
    },
    {
      "cell_type": "code",
      "execution_count": null,
      "metadata": {
        "id": "OHp--hmrA-O7"
      },
      "outputs": [],
      "source": [
        "# 👉 Try solving here\n",
        "subject = \" Re: Refund for order OD1223     \"\n",
        "# Your code here"
      ]
    },
    {
      "cell_type": "markdown",
      "metadata": {
        "id": "5mOGl_UiA-O8"
      },
      "source": [
        "---\n",
        "## 🔹 Use Case 2: Invoice Number Extractor from Messy Text\n",
        "**Scenario:**\n",
        "Extract invoice numbers from noisy messages.\n",
        "\n",
        "**Input Example:**\n",
        "`\"Hey, invoice INV-0001234 needs to be paid!\"`\n",
        "\n",
        "**Your Task:**\n",
        "- Normalize casing\n",
        "- Remove punctuation\n",
        "- Extract and print invoice number\n",
        "- Output: `\"Extracted Invoice Number: INV-0001234\"`"
      ]
    },
    {
      "cell_type": "code",
      "execution_count": null,
      "metadata": {
        "id": "4AzpnMhhA-O8"
      },
      "outputs": [],
      "source": [
        "# 👉 Try solving here\n",
        "message = \"Hey, invoice INV-0001234 needs to be paid!\"\n",
        "# Your code here"
      ]
    },
    {
      "cell_type": "markdown",
      "metadata": {
        "id": "Cf2XclflA-O9"
      },
      "source": [
        "---\n",
        "## 🔹 Use Case 3: Multi-Field Extractor for Chatbot Prompt\n",
        "**Scenario:**\n",
        "You have messy form input from a document. Extract and format:\n",
        "- Full Name\n",
        "- Email Address\n",
        "- Company Name\n",
        "- Designation\n",
        "\n",
        "**Input Example:**\n",
        "```python\n",
        "\" Name :   saurabh sharma  \\n Email: SAURABH@ETHOVISE.com  \\nCompany = ethovise Tech  \\n role :  Data scientist\"\n",
        "```\n",
        "\n",
        "**Your Task:**\n",
        "- Clean and extract all values\n",
        "- Format as:\n",
        "`\"User Saurabh Sharma (Data Scientist at Ethovise Tech) can be contacted at saurabh@ethovise.com\"`"
      ]
    },
    {
      "cell_type": "code",
      "execution_count": null,
      "metadata": {
        "id": "VTbqd-msA-O9"
      },
      "outputs": [],
      "source": [
        "# 👉 Try solving here\n",
        "input_data = \" Name :   saurabh sharma  \\n Email: SAURABH@ETHOVISE.com  \\nCompany = ethovise Tech  \\n role :  Data scientist\"\n",
        "# Your code here"
      ]
    }
  ],
  "metadata": {
    "kernelspec": {
      "display_name": "Python 3",
      "language": "python",
      "name": "python3"
    },
    "language_info": {
      "name": "python"
    },
    "colab": {
      "provenance": [],
      "include_colab_link": true
    }
  },
  "nbformat": 4,
  "nbformat_minor": 0
}